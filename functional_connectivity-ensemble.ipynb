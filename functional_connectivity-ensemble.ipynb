{
 "cells": [
  {
   "cell_type": "code",
   "execution_count": 1,
   "metadata": {},
   "outputs": [],
   "source": [
    "import numpy as np\n",
    "import matplotlib.pyplot as plt\n",
    "import seaborn as sns\n",
    "import mne\n",
    "import pandas as pd\n",
    "from scipy.io import loadmat\n",
    "\n",
    "from sklearn.base import BaseEstimator, TransformerMixin\n",
    "from sklearn.covariance import GraphicalLasso\n",
    "from sklearn.discriminant_analysis import LinearDiscriminantAnalysis as LDA\n",
    "from sklearn.ensemble import GradientBoostingClassifier, StackingClassifier\n",
    "from sklearn.linear_model import ElasticNetCV, LogisticRegression\n",
    "from sklearn.model_selection import cross_val_score, RepeatedStratifiedKFold, StratifiedKFold\n",
    "from sklearn.svm import SVC\n",
    "from sklearn.preprocessing import LabelEncoder\n",
    "from sklearn.pipeline import make_pipeline\n",
    "from sklearn.metrics import cohen_kappa_score, make_scorer\n",
    "\n",
    "from pyriemann.classification import MDM, FgMDM, TSclassifier\n",
    "from pyriemann.clustering import Potato\n",
    "from pyriemann.estimation import Covariances\n",
    "from pyriemann.tangentspace import TangentSpace\n",
    "\n",
    "from mne.decoding import CSP\n",
    "from tqdm.notebook import trange, tqdm\n",
    "\n",
    "%matplotlib inline"
   ]
  },
  {
   "cell_type": "code",
   "execution_count": 2,
   "metadata": {},
   "outputs": [],
   "source": [
    "# scoring = 'accuracy' # kappa score\n",
    "n_jobs = -1"
   ]
  },
  {
   "cell_type": "code",
   "execution_count": 3,
   "metadata": {},
   "outputs": [],
   "source": [
    "def isPD(B):\n",
    "    \"\"\"Returns true when input is positive-definite, via Cholesky\"\"\"\n",
    "    try:\n",
    "        _ = np.linalg.cholesky(B)\n",
    "        return True\n",
    "    except np.linalg.LinAlgError:\n",
    "        return False\n",
    "\n",
    "def isPD2(B):\n",
    "    \"\"\"Returns true when input is positive-definite, via Cholesky\"\"\"\n",
    "    if np.any(np.linalg.eigvals(B) < 0.):\n",
    "        return False\n",
    "    else: return True\n",
    "\n",
    "def nearestPD(A):\n",
    "    \"\"\"Find the nearest positive-definite matrix to input\n",
    "\n",
    "    A Python/Numpy port of John D'Errico's `nearestSPD` MATLAB code [1], which\n",
    "    credits [2].\n",
    "\n",
    "    [1] https://www.mathworks.com/matlabcentral/fileexchange/42885-nearestspd\n",
    "\n",
    "    [2] N.J. Higham, \"Computing a nearest symmetric positive semidefinite\n",
    "    matrix\" (1988): https://doi.org/10.1016/0024-3795(88)90223-6\n",
    "    \"\"\"\n",
    "\n",
    "    B = (A + A.T) / 2\n",
    "    _, s, V = np.linalg.svd(B)\n",
    "\n",
    "    H = np.dot(V.T, np.dot(np.diag(s), V))\n",
    "\n",
    "    A2 = (B + H) / 2\n",
    "\n",
    "    A3 = (A2 + A2.T) / 2\n",
    "\n",
    "    if isPD(A3):\n",
    "        return A3\n",
    "\n",
    "    spacing = np.spacing(np.linalg.norm(A))\n",
    "    I = np.eye(A.shape[0])\n",
    "    k = 1\n",
    "    while not isPD2(A3):\n",
    "        mineig = np.min(np.real(np.linalg.eigvals(A3)))\n",
    "        A3 += I * (-mineig * k**2 + spacing)\n",
    "        k += 1\n",
    "    return A3"
   ]
  },
  {
   "cell_type": "code",
   "execution_count": 4,
   "metadata": {},
   "outputs": [
    {
     "name": "stdout",
     "output_type": "stream",
     "text": [
      "80 matching events found\n",
      "No baseline correction applied\n",
      "Not setting metadata\n",
      "0 projection items activated\n"
     ]
    },
    {
     "name": "stderr",
     "output_type": "stream",
     "text": [
      "<ipython-input-4-739e07a961bf>:10: DeprecationWarning: Passing montage to create_info is deprecated and will be removed in 0.21, use raw.set_montage (or epochs.set_montage, etc.) instead\n",
      "  info = mne.create_info(channel_names, sfreq, channel_types, montage)\n"
     ]
    },
    {
     "name": "stdout",
     "output_type": "stream",
     "text": [
      "0 bad epochs dropped\n",
      "Setting up band-pass filter from 8 - 30 Hz\n",
      "\n",
      "IIR filter parameters\n",
      "---------------------\n",
      "Butterworth bandpass zero-phase (two-pass forward and reverse) non-causal filter:\n",
      "- Filter order 16 (effective, after forward-backward)\n",
      "- Cutoffs at 8.00, 30.00 Hz: -6.02, -6.02 dB\n",
      "\n",
      "80 matching events found\n",
      "No baseline correction applied\n",
      "Not setting metadata\n",
      "0 projection items activated\n",
      "0 bad epochs dropped\n",
      "Setting up band-pass filter from 8 - 30 Hz\n",
      "\n",
      "IIR filter parameters\n",
      "---------------------\n",
      "Butterworth bandpass zero-phase (two-pass forward and reverse) non-causal filter:\n",
      "- Filter order 16 (effective, after forward-backward)\n",
      "- Cutoffs at 8.00, 30.00 Hz: -6.02, -6.02 dB\n",
      "\n",
      "80 matching events found\n",
      "No baseline correction applied\n",
      "Not setting metadata\n",
      "0 projection items activated\n",
      "0 bad epochs dropped\n",
      "Setting up band-pass filter from 8 - 30 Hz\n",
      "\n",
      "IIR filter parameters\n",
      "---------------------\n",
      "Butterworth bandpass zero-phase (two-pass forward and reverse) non-causal filter:\n",
      "- Filter order 16 (effective, after forward-backward)\n",
      "- Cutoffs at 8.00, 30.00 Hz: -6.02, -6.02 dB\n",
      "\n",
      "80 matching events found\n",
      "No baseline correction applied\n",
      "Not setting metadata\n",
      "0 projection items activated\n",
      "0 bad epochs dropped\n",
      "Setting up band-pass filter from 8 - 30 Hz\n",
      "\n",
      "IIR filter parameters\n",
      "---------------------\n",
      "Butterworth bandpass zero-phase (two-pass forward and reverse) non-causal filter:\n",
      "- Filter order 16 (effective, after forward-backward)\n",
      "- Cutoffs at 8.00, 30.00 Hz: -6.02, -6.02 dB\n",
      "\n",
      "80 matching events found\n",
      "No baseline correction applied\n",
      "Not setting metadata\n",
      "0 projection items activated\n",
      "0 bad epochs dropped\n",
      "Setting up band-pass filter from 8 - 30 Hz\n",
      "\n",
      "IIR filter parameters\n",
      "---------------------\n",
      "Butterworth bandpass zero-phase (two-pass forward and reverse) non-causal filter:\n",
      "- Filter order 16 (effective, after forward-backward)\n",
      "- Cutoffs at 8.00, 30.00 Hz: -6.02, -6.02 dB\n",
      "\n",
      "80 matching events found\n",
      "No baseline correction applied\n",
      "Not setting metadata\n",
      "0 projection items activated\n",
      "0 bad epochs dropped\n",
      "Setting up band-pass filter from 8 - 30 Hz\n",
      "\n",
      "IIR filter parameters\n",
      "---------------------\n",
      "Butterworth bandpass zero-phase (two-pass forward and reverse) non-causal filter:\n",
      "- Filter order 16 (effective, after forward-backward)\n",
      "- Cutoffs at 8.00, 30.00 Hz: -6.02, -6.02 dB\n",
      "\n",
      "80 matching events found\n",
      "No baseline correction applied\n",
      "Not setting metadata\n",
      "0 projection items activated\n",
      "0 bad epochs dropped\n",
      "Setting up band-pass filter from 8 - 30 Hz\n",
      "\n",
      "IIR filter parameters\n",
      "---------------------\n",
      "Butterworth bandpass zero-phase (two-pass forward and reverse) non-causal filter:\n",
      "- Filter order 16 (effective, after forward-backward)\n",
      "- Cutoffs at 8.00, 30.00 Hz: -6.02, -6.02 dB\n",
      "\n",
      "80 matching events found\n",
      "No baseline correction applied\n",
      "Not setting metadata\n",
      "0 projection items activated\n",
      "0 bad epochs dropped\n",
      "Setting up band-pass filter from 8 - 30 Hz\n",
      "\n",
      "IIR filter parameters\n",
      "---------------------\n",
      "Butterworth bandpass zero-phase (two-pass forward and reverse) non-causal filter:\n",
      "- Filter order 16 (effective, after forward-backward)\n",
      "- Cutoffs at 8.00, 30.00 Hz: -6.02, -6.02 dB\n",
      "\n"
     ]
    }
   ],
   "source": [
    "l_freq, h_freq = 8, 30\n",
    "start, stop = 3, 7.5\n",
    "\n",
    "subjects = [\"P{:02d}T\".format(i) for i in range(1, 9)]\n",
    "path= \"../../datasets/Clinical-Brain-Computer-Interfaces-Challenge-WCCI-2020-Glasgow/parsed_\"\n",
    "sfreq = 512\n",
    "channel_names = [\"F3\", \"FC3\", \"C3\", \"CP3\", \"P3\", \"FCz\", \"CPz\", \"F4\", \"FC4\", \"C4\", \"CP4\", \"P4\"]\n",
    "channel_types = 12 * [\"eeg\"]\n",
    "montage = mne.channels.make_standard_montage('standard_1020')\n",
    "info = mne.create_info(channel_names, sfreq, channel_types, montage)\n",
    "tmin = 0.\n",
    "event_id = {'right':1 , 'left':2}\n",
    "\n",
    "ep = []\n",
    "for s in subjects:\n",
    "    d = loadmat(path+s+\".mat\", squeeze_me=True)\n",
    "    labels = d['Labels']\n",
    "    data = d['RawEEGData']\n",
    "    events = np.array([[t*10*sfreq, 0, l] for t, l in enumerate(labels)])\n",
    "    epochs =  mne.EpochsArray(data, info, events, tmin, event_id)\n",
    "    epochs.set_montage(montage)\n",
    "    epochs.filter(l_freq=l_freq, h_freq=h_freq, method='iir')\n",
    "    epochs.crop(tmin=start, tmax=stop)\n",
    "    ep.append(epochs)"
   ]
  },
  {
   "cell_type": "code",
   "execution_count": 5,
   "metadata": {},
   "outputs": [],
   "source": [
    "def load_data(feat, subj, idx):\n",
    "    if feat == \"signal\":\n",
    "        return ep[subj].get_data()[idx]\n",
    "    elif feat == \"Cov\":\n",
    "        d = loadmat(\"AlphaBetaTogether/Cov_Training_All.mat\", squeeze_me=True)\n",
    "    else: d = loadmat(feat+\"_Training_121280.mat\", squeeze_me=True)\n",
    "    X = np.array(np.transpose(d['Mat'+feat][subj, 0], axes=(2, 0, 1)))\n",
    "    for i in range(80):\n",
    "        if not isPD2(X[i]): X[i] = nearestPD(X[i])\n",
    "    return X[idx]"
   ]
  },
  {
   "cell_type": "code",
   "execution_count": 6,
   "metadata": {},
   "outputs": [],
   "source": [
    "class FeatConn(TransformerMixin, BaseEstimator):\n",
    "    \"\"\"Getting connectivity features from mat files\n",
    "    \"\"\"\n",
    "    def __init__(self, feat=\"Cov\", subj=0):\n",
    "        self.feat = feat\n",
    "        self.subj = subj\n",
    "    \n",
    "    def fit(self, X, y=None):\n",
    "        pass\n",
    "    \n",
    "    def transform(self, X):\n",
    "        return load_data(self.feat, self.subj, X)\n",
    "    \n",
    "    def fit_transform(self, X, y=None):\n",
    "        return self.transform(X)\n",
    "    \n",
    "class CovLasso(TransformerMixin, BaseEstimator):\n",
    "    \"\"\"Getting connectivity features from mat files\n",
    "    \"\"\"\n",
    "    def __init__(self, alpha=0.01, mode='cd', tol=1e-4, enet_tol=1e-4, max_iter=100):\n",
    "        self.alpha = alpha\n",
    "        self.mode = mode\n",
    "        self.tol = tol\n",
    "        self.enet_tol = enet_tol\n",
    "        self.max_iter = max_iter\n",
    "        # self.cov = GraphicalLasso(alpha=alpha, mode=mode, tol=tol, enet_tol=enet_tol, max_iter=max_iter)\n",
    "    \n",
    "    def fit(self, X, y=None):\n",
    "        pass\n",
    "    \n",
    "    def transform(self, X):\n",
    "        pass\n",
    "    \n",
    "    def fit_transform(self, X, y=None):\n",
    "        Nt, Ne, Ns = X.shape\n",
    "        covmats = numpy.zeros((Nt, Ne, Ne))\n",
    "        for i in range(Nt):\n",
    "            est = GraphicalLasso(alpha=self.alpha, mode=self.mode, tol=self.tol, \n",
    "                                 enet_tol=self.enet_tol, max_iter=self.max_iter)\n",
    "            est.fit(X[i, :, :])\n",
    "            covmats[i, :, :] = est.covariance_\n",
    "        return covmats"
   ]
  },
  {
   "cell_type": "code",
   "execution_count": 7,
   "metadata": {},
   "outputs": [],
   "source": [
    "import numpy\n",
    "\n",
    "from scipy import stats\n",
    "\n",
    "from sklearn.base import BaseEstimator, ClassifierMixin, TransformerMixin\n",
    "from sklearn.linear_model import LogisticRegression\n",
    "from sklearn.utils.extmath import softmax\n",
    "from sklearn.utils.multiclass import unique_labels\n",
    "from sklearn.pipeline import make_pipeline\n",
    "from joblib import Parallel, delayed\n",
    "\n",
    "from pyriemann.utils.mean import mean_covariance\n",
    "from pyriemann.utils.distance import distance\n",
    "from pyriemann.tangentspace import FGDA, TangentSpace\n",
    "\n",
    "class FgMDM2(BaseEstimator, ClassifierMixin, TransformerMixin):\n",
    "    def __init__(self, metric='riemann', tsupdate=False, n_jobs=1):\n",
    "        \"\"\"Init.\"\"\"\n",
    "        self.metric = metric\n",
    "        self.n_jobs = n_jobs\n",
    "        self.tsupdate = tsupdate\n",
    "\n",
    "        if isinstance(metric, str):\n",
    "            self.metric_mean = metric\n",
    "\n",
    "        elif isinstance(metric, dict):\n",
    "            # check keys\n",
    "            for key in ['mean', 'distance']:\n",
    "                if key not in metric.keys():\n",
    "                    raise KeyError('metric must contain \"mean\" and \"distance\"')\n",
    "\n",
    "            self.metric_mean = metric['mean']\n",
    "\n",
    "        else:\n",
    "            raise TypeError('metric must be dict or str')\n",
    "\n",
    "    def fit(self, X, y):\n",
    "        self.classes_ = unique_labels(y)\n",
    "        self._mdm = MDM(metric=self.metric, n_jobs=self.n_jobs)\n",
    "        self._fgda = FGDA(metric=self.metric_mean, tsupdate=self.tsupdate)\n",
    "        cov = self._fgda.fit_transform(X, y)\n",
    "        self._mdm.fit(cov, y)\n",
    "        return self\n",
    "\n",
    "    def predict(self, X):\n",
    "        cov = self._fgda.transform(X)\n",
    "        return self._mdm.predict(cov)\n",
    "    \n",
    "    def predict_proba(self, X):\n",
    "        cov = self._fgda.transform(X)\n",
    "        return self._mdm.predict_proba(cov)\n",
    "    \n",
    "    def transform(self, X):\n",
    "        cov = self._fgda.transform(X)\n",
    "        return self._mdm.transform(cov)\n",
    "    \n",
    "class MDM2(BaseEstimator, ClassifierMixin, TransformerMixin):\n",
    "    def __init__(self, metric='riemann', n_jobs=1):\n",
    "        \"\"\"Init.\"\"\"\n",
    "        # store params for cloning purpose\n",
    "        self.metric = metric\n",
    "        self.n_jobs = n_jobs\n",
    "\n",
    "        if isinstance(metric, str):\n",
    "            self.metric_mean = metric\n",
    "            self.metric_dist = metric\n",
    "\n",
    "        elif isinstance(metric, dict):\n",
    "            # check keys\n",
    "            for key in ['mean', 'distance']:\n",
    "                if key not in metric.keys():\n",
    "                    raise KeyError('metric must contain \"mean\" and \"distance\"')\n",
    "\n",
    "            self.metric_mean = metric['mean']\n",
    "            self.metric_dist = metric['distance']\n",
    "\n",
    "        else:\n",
    "            raise TypeError('metric must be dict or str')\n",
    "\n",
    "    def fit(self, X, y, sample_weight=None):\n",
    "        self.classes_ = numpy.unique(y)\n",
    "\n",
    "        if sample_weight is None:\n",
    "            sample_weight = numpy.ones(X.shape[0])\n",
    "\n",
    "        if self.n_jobs == 1:\n",
    "            self.covmeans_ = [mean_covariance(X[y == l], metric=self.metric_mean,\n",
    "                                    sample_weight=sample_weight[y == l])\n",
    "                                        for l in self.classes_]\n",
    "        else:\n",
    "            self.covmeans_ = Parallel(n_jobs=self.n_jobs)(\n",
    "                delayed(mean_covariance)(X[y == l], metric=self.metric_mean,\n",
    "                                         sample_weight=sample_weight[y == l])\n",
    "                for l in self.classes_)\n",
    "\n",
    "        return self\n",
    "\n",
    "    def _predict_distances(self, covtest):\n",
    "        \"\"\"Helper to predict the distance. equivalent to transform.\"\"\"\n",
    "        Nc = len(self.covmeans_)\n",
    "\n",
    "        if self.n_jobs == 1:\n",
    "            dist = [distance(covtest, self.covmeans_[m], self.metric_dist)\n",
    "                    for m in range(Nc)]\n",
    "        else:\n",
    "            dist = Parallel(n_jobs=self.n_jobs)(delayed(distance)(\n",
    "                covtest, self.covmeans_[m], self.metric_dist)\n",
    "                for m in range(Nc))\n",
    "\n",
    "        dist = numpy.concatenate(dist, axis=1)\n",
    "        return dist\n",
    "\n",
    "    def predict(self, covtest):\n",
    "        dist = self._predict_distances(covtest)\n",
    "        return self.classes_[dist.argmin(axis=1)]\n",
    "\n",
    "    def transform(self, X):\n",
    "        return self._predict_distances(X)\n",
    "\n",
    "    def fit_predict(self, X, y):\n",
    "        self.fit(X, y)\n",
    "        return self.predict(X)\n",
    "\n",
    "    def predict_proba(self, X):\n",
    "        return softmax(-self._predict_distances(X))"
   ]
  },
  {
   "cell_type": "code",
   "execution_count": 273,
   "metadata": {},
   "outputs": [],
   "source": [
    "pipelines = {}\n",
    "pipelines['fgMDM-Coh'] = make_pipeline(\n",
    "    FeatConn(\"Coh\", s),\n",
    "    FgMDM2(metric='logeuclid', tsupdate=True, n_jobs=1))\n",
    "pipelines['fgMDM-PLV'] = make_pipeline(\n",
    "    FeatConn(\"PLV\", s),\n",
    "    FgMDM2(metric='logeuclid', tsupdate=True, n_jobs=1))\n",
    "pipelines['fgMDM-Cov'] = make_pipeline(\n",
    "    FeatConn(\"Cov\", s),\n",
    "    FgMDM2(metric='logeuclid', tsupdate=True, n_jobs=1))\n",
    "\n",
    "pipelines['MDM-ICoh'] = make_pipeline(\n",
    "    FeatConn(\"ICoh\", s),\n",
    "    MDM(metric='logeuclid', n_jobs=1))\n",
    "pipelines['MDM-AEC'] = make_pipeline(\n",
    "    FeatConn(\"AEC\", s),\n",
    "    MDM(metric='logeuclid', n_jobs=1))\n",
    "\n",
    "param_svc = {'C': np.logspace(-2, 2, 10)}\n",
    "gssvc = GridSearchCV(SVC(kernel='linear'), param_svc, cv=3)\n",
    "pipelines['CSP-SVM'] = make_pipeline(\n",
    "    FeatConn(\"signal\", s),\n",
    "    CSP(n_components=6), \n",
    "    gssvc)\n",
    "pipelines['CSP-LDA'] = make_pipeline(\n",
    "    FeatConn(\"signal\", 0s,\n",
    "    CSP(n_components=6), \n",
    "    LDA())\n",
    "\n",
    "pipelines['fgMDM-Lasso'] = make_pipeline(\n",
    "    FeatConn(\"signal\", s),\n",
    "    CovLasso(max_iter=1000),\n",
    "    FgMDM2(metric='riemann', tsupdate=True, n_jobs=1))\n",
    "\n",
    "\n",
    "estimators = [('cov', pipelines['fgMDM-Cov']),\n",
    "              ('coh', pipelines['fgMDM-Coh']),\n",
    "              ('plv', pipelines['fgMDM-PLV'])            \n",
    "             ]\n",
    "# final_estimator = LogisticRegression()\n",
    "final_estimator = LogisticRegression(penalty='elasticnet', l1_ratio=0.1, intercept_scaling=1000., solver='saga')\n",
    "\n",
    "\n",
    "# Pas terrible...\n",
    "# final_estimator = GradientBoostingClassifier(random_state=42)\n",
    "# from sklearn.linear_model import SGDClassifier\n",
    "# final_estimator = SGDClassifier(loss='log', penalty='elasticnet', l1_ratio=0.1)\n",
    "\n",
    "cvkf = StratifiedKFold(n_splits=4, shuffle=True)\n",
    "scl = StackingClassifier(\n",
    "        estimators=estimators,\n",
    "        cv = cvkf, n_jobs = 1,\n",
    "        final_estimator=final_estimator,\n",
    "        stack_method='predict_proba')\n",
    "pipelines['Ensemble'] = scl"
   ]
  },
  {
   "cell_type": "code",
   "execution_count": 8,
   "metadata": {},
   "outputs": [],
   "source": [
    "mne.set_log_level('ERROR')\n",
    "\n",
    "from warnings import simplefilter\n",
    "# ignore all future warnings\n",
    "simplefilter(action='ignore', category=FutureWarning)"
   ]
  },
  {
   "cell_type": "code",
   "execution_count": 13,
   "metadata": {},
   "outputs": [
    {
     "data": {
      "application/vnd.jupyter.widget-view+json": {
       "model_id": "e634a61b30fd414faa0ed533cdb2639c",
       "version_major": 2,
       "version_minor": 0
      },
      "text/plain": [
       "HBox(children=(FloatProgress(value=0.0, max=8.0), HTML(value='')))"
      ]
     },
     "metadata": {},
     "output_type": "display_data"
    },
    {
     "name": "stdout",
     "output_type": "stream",
     "text": [
      "removed  1 artefacts\n"
     ]
    },
    {
     "data": {
      "application/vnd.jupyter.widget-view+json": {
       "model_id": "",
       "version_major": 2,
       "version_minor": 0
      },
      "text/plain": [
       "HBox(children=(FloatProgress(value=0.0, max=5.0), HTML(value='')))"
      ]
     },
     "metadata": {},
     "output_type": "display_data"
    },
    {
     "name": "stdout",
     "output_type": "stream",
     "text": [
      "removed  0 artefacts\n"
     ]
    },
    {
     "data": {
      "application/vnd.jupyter.widget-view+json": {
       "model_id": "",
       "version_major": 2,
       "version_minor": 0
      },
      "text/plain": [
       "HBox(children=(FloatProgress(value=0.0, max=5.0), HTML(value='')))"
      ]
     },
     "metadata": {},
     "output_type": "display_data"
    },
    {
     "name": "stdout",
     "output_type": "stream",
     "text": [
      "removed  0 artefacts\n"
     ]
    },
    {
     "data": {
      "application/vnd.jupyter.widget-view+json": {
       "model_id": "",
       "version_major": 2,
       "version_minor": 0
      },
      "text/plain": [
       "HBox(children=(FloatProgress(value=0.0, max=5.0), HTML(value='')))"
      ]
     },
     "metadata": {},
     "output_type": "display_data"
    },
    {
     "name": "stdout",
     "output_type": "stream",
     "text": [
      "removed  0 artefacts\n"
     ]
    },
    {
     "data": {
      "application/vnd.jupyter.widget-view+json": {
       "model_id": "",
       "version_major": 2,
       "version_minor": 0
      },
      "text/plain": [
       "HBox(children=(FloatProgress(value=0.0, max=5.0), HTML(value='')))"
      ]
     },
     "metadata": {},
     "output_type": "display_data"
    },
    {
     "name": "stdout",
     "output_type": "stream",
     "text": [
      "removed  0 artefacts\n"
     ]
    },
    {
     "data": {
      "application/vnd.jupyter.widget-view+json": {
       "model_id": "",
       "version_major": 2,
       "version_minor": 0
      },
      "text/plain": [
       "HBox(children=(FloatProgress(value=0.0, max=5.0), HTML(value='')))"
      ]
     },
     "metadata": {},
     "output_type": "display_data"
    },
    {
     "name": "stdout",
     "output_type": "stream",
     "text": [
      "removed  1 artefacts\n"
     ]
    },
    {
     "data": {
      "application/vnd.jupyter.widget-view+json": {
       "model_id": "",
       "version_major": 2,
       "version_minor": 0
      },
      "text/plain": [
       "HBox(children=(FloatProgress(value=0.0, max=5.0), HTML(value='')))"
      ]
     },
     "metadata": {},
     "output_type": "display_data"
    },
    {
     "name": "stdout",
     "output_type": "stream",
     "text": [
      "removed  0 artefacts\n"
     ]
    },
    {
     "data": {
      "application/vnd.jupyter.widget-view+json": {
       "model_id": "",
       "version_major": 2,
       "version_minor": 0
      },
      "text/plain": [
       "HBox(children=(FloatProgress(value=0.0, max=5.0), HTML(value='')))"
      ]
     },
     "metadata": {},
     "output_type": "display_data"
    },
    {
     "name": "stdout",
     "output_type": "stream",
     "text": [
      "removed  1 artefacts\n"
     ]
    },
    {
     "data": {
      "application/vnd.jupyter.widget-view+json": {
       "model_id": "",
       "version_major": 2,
       "version_minor": 0
      },
      "text/plain": [
       "HBox(children=(FloatProgress(value=0.0, max=5.0), HTML(value='')))"
      ]
     },
     "metadata": {},
     "output_type": "display_data"
    },
    {
     "name": "stdout",
     "output_type": "stream",
     "text": [
      "\n"
     ]
    }
   ],
   "source": [
    "d_ = loadmat(\"Coh_Training_121280.mat\", squeeze_me=True)\n",
    "y_train_all = []\n",
    "for i in range(8):\n",
    "    y_train_all.append(d_['MatCoh'][i, 1])\n",
    "\n",
    "all_res = []\n",
    "for s in trange(8):\n",
    "    X = np.array([i for i in range(80)])\n",
    "    y = y_train_all[s]\n",
    "    le = LabelEncoder()\n",
    "    y = le.fit_transform(y)\n",
    "    \n",
    "    th = 5 # 4\n",
    "    mat = FeatConn(\"Coh\", s).fit_transform(X)\n",
    "    pt = Potato(metric='logeuclid', threshold=th).fit(mat)\n",
    "    atfcoh = (pt.predict(mat) == 1)\n",
    "    mat = FeatConn(\"Cov\", s).fit_transform(X)\n",
    "    pt = Potato(metric='logeuclid', threshold=th).fit(mat)\n",
    "    atfcov = (pt.predict(mat) == 1)\n",
    "    mat = FeatConn(\"PLV\", s).fit_transform(X)\n",
    "    pt = Potato(metric='logeuclid', threshold=th).fit(mat)\n",
    "    atfplv = (pt.predict(mat) == 1)\n",
    "    #mat = FeatConn(\"AEC\", s).fit_transform(X)\n",
    "    #pt = Potato(metric='logeuclid', threshold=th).fit(mat)\n",
    "    #atfaec = (pt.predict(mat) == 1)\n",
    "    #mat = FeatConn(\"ICoh\", s).fit_transform(X)\n",
    "    #pt = Potato(metric='logeuclid', threshold=th).fit(mat)\n",
    "    #atfico = (pt.predict(mat) == 1)\n",
    "    atf = np.logical_and(atfcoh, np.logical_and(atfcov, atfplv))\n",
    "    #atf = np.logical_and(atfico, np.logical_and(atfaec, np.logical_and(atfcoh, np.logical_and(atfcov, atfplv))))\n",
    "    print (\"removed \", len(X)-atf.sum(), \"artefacts\")\n",
    "    X = X[atf]\n",
    "    y = y[atf]\n",
    "\n",
    "    pipelines = {}\n",
    "    pipelines['fgMDM-Coh'] = make_pipeline(\n",
    "        FeatConn(\"Coh\", s),\n",
    "        FgMDM2(metric='logeuclid', tsupdate=True, n_jobs=n_jobs))\n",
    "    pipelines['fgMDM-PLV'] = make_pipeline(\n",
    "        FeatConn(\"PLV\", s),\n",
    "        FgMDM2(metric='logeuclid', tsupdate=True, n_jobs=n_jobs))\n",
    "    pipelines['fgMDM-Cov'] = make_pipeline(\n",
    "        FeatConn(\"Cov\", s),\n",
    "        FgMDM2(metric='logeuclid', tsupdate=True, n_jobs=n_jobs))\n",
    "\n",
    "    #pipelines['MDM-ICoh'] = make_pipeline(\n",
    "    #    FeatConn(\"ICoh\", s),\n",
    "    #    MDM(metric='riemann', n_jobs=1))\n",
    "    #pipelines['MDM-AEC'] = make_pipeline(\n",
    "    #    FeatConn(\"AEC\", s),\n",
    "    #    MDM(metric='riemann', n_jobs=1))\n",
    "    \n",
    "    pipelines['CSP-LDA'] = make_pipeline(\n",
    "        FeatConn(\"signal\", s),\n",
    "        CSP(n_components=6, reg='ledoit_wolf'), \n",
    "        LDA())\n",
    "    \n",
    "    estimators = [('cov', pipelines['fgMDM-Cov']),\n",
    "                  ('coh', pipelines['fgMDM-Coh']),\n",
    "                  ('plv', pipelines['fgMDM-PLV'])\n",
    "                 ]\n",
    "    final_estimator = LogisticRegression(penalty='elasticnet', \n",
    "                                         l1_ratio=0.1, intercept_scaling=1000., \n",
    "                                         solver='saga')\n",
    "    cvkf = StratifiedKFold(n_splits=5, shuffle=True)\n",
    "    scl = StackingClassifier(estimators=estimators,\n",
    "            cv=cvkf, n_jobs=n_jobs, final_estimator=final_estimator,\n",
    "            stack_method='predict_proba')\n",
    "    pipelines['Ensemble'] = scl\n",
    "    \n",
    "    for p in tqdm(pipelines, leave=False):\n",
    "        scores = cross_val_score(pipelines[p], X, y, n_jobs=n_jobs,\n",
    "                                 scoring=make_scorer(cohen_kappa_score), \n",
    "                                 cv=RepeatedStratifiedKFold(n_splits=4, \n",
    "                                                            n_repeats=10,\n",
    "                                                            random_state=1))\n",
    "        for sc in scores:\n",
    "            res = {'subject': str(s+1),\n",
    "                   'score': sc,\n",
    "                   'estimator': p}\n",
    "            all_res.append(res)\n",
    "df_strat = pd.DataFrame(all_res)"
   ]
  },
  {
   "cell_type": "code",
   "execution_count": 14,
   "metadata": {},
   "outputs": [
    {
     "data": {
      "image/png": "[encoded data removed]",
      "text/plain": [
       "<Figure size 957.875x432 with 1 Axes>"
      ]
     },
     "metadata": {
      "needs_background": "light"
     },
     "output_type": "display_data"
    }
   ],
   "source": [
    "sns.catplot(x='subject', y='score', hue='estimator', kind=\"box\", \n",
    "            data=df_strat, palette='viridis', height=6, aspect=2)\n",
    "plt.savefig(\"ensemble-subject.png\")"
   ]
  },
  {
   "cell_type": "code",
   "execution_count": 15,
   "metadata": {},
   "outputs": [
    {
     "data": {
      "image/png": "[encoded data removed]",
      "text/plain": [
       "<Figure size 864x432 with 1 Axes>"
      ]
     },
     "metadata": {
      "needs_background": "light"
     },
     "output_type": "display_data"
    }
   ],
   "source": [
    "sns.catplot(x='estimator', y='score', kind='bar', data=df_strat, \n",
    "            height=6, aspect=2, palette=\"viridis\")\n",
    "plt.savefig(\"ensemble-classif.png\")"
   ]
  },
  {
   "cell_type": "markdown",
   "metadata": {},
   "source": [
    "# Results"
   ]
  },
  {
   "cell_type": "code",
   "execution_count": 16,
   "metadata": {},
   "outputs": [
    {
     "name": "stdout",
     "output_type": "stream",
     "text": [
      "\n",
      "Kappa score\n",
      "===========\n",
      "FgMDM on coherence        = 59.69\n",
      "FgMDM on covariance       = 65.19\n",
      "FgMDM on phase-lock value = 58.19\n",
      "CSP+LDA on covariance     = 57.93\n",
      "---------------------------------\n",
      "Ensemble classifier       = 68.00\n",
      "\n",
      "Classifiers\n",
      "===========\n",
      "[('cov', Pipeline(memory=None,\n",
      "         steps=[('featconn', FeatConn(feat='Cov', subj=7)),\n",
      "                ('fgmdm2',\n",
      "                 FgMDM2(metric='logeuclid', n_jobs=-1, tsupdate=True))],\n",
      "         verbose=False)), ('coh', Pipeline(memory=None,\n",
      "         steps=[('featconn', FeatConn(feat='Coh', subj=7)),\n",
      "                ('fgmdm2',\n",
      "                 FgMDM2(metric='logeuclid', n_jobs=-1, tsupdate=True))],\n",
      "         verbose=False)), ('plv', Pipeline(memory=None,\n",
      "         steps=[('featconn', FeatConn(feat='PLV', subj=7)),\n",
      "                ('fgmdm2',\n",
      "                 FgMDM2(metric='logeuclid', n_jobs=-1, tsupdate=True))],\n",
      "         verbose=False))]\n",
      "LogisticRegression(C=1.0, class_weight=None, dual=False, fit_intercept=True,\n",
      "                   intercept_scaling=1000.0, l1_ratio=0.1, max_iter=100,\n",
      "                   multi_class='auto', n_jobs=None, penalty='elasticnet',\n",
      "                   random_state=None, solver='saga', tol=0.0001, verbose=0,\n",
      "                   warm_start=False)\n"
     ]
    }
   ],
   "source": [
    "print (\"\"\"\n",
    "Kappa score\n",
    "===========\n",
    "FgMDM on coherence        = {:.2f}\n",
    "FgMDM on covariance       = {:.2f}\n",
    "FgMDM on phase-lock value = {:.2f}\n",
    "CSP+LDA on covariance     = {:.2f}\n",
    "---------------------------------\n",
    "Ensemble classifier       = {:.2f}\n",
    "\n",
    "Classifiers\n",
    "===========\"\"\".format(\n",
    "    np.nanmean(df_strat[df_strat['estimator'] == 'fgMDM-Coh']['score'].to_numpy())*100,\n",
    "    np.nanmean(df_strat[df_strat['estimator'] == 'fgMDM-Cov']['score'].to_numpy())*100,\n",
    "    np.nanmean(df_strat[df_strat['estimator'] == 'fgMDM-PLV']['score'].to_numpy())*100,\n",
    "    np.nanmean(df_strat[df_strat['estimator'] == 'CSP-LDA']['score'].to_numpy())*100,\n",
    "    np.nanmean(df_strat[df_strat['estimator'] == 'Ensemble']['score'].to_numpy())*100))\n",
    "\n",
    "print(scl.estimators)\n",
    "print(scl.final_estimator)"
   ]
  },
  {
   "cell_type": "code",
   "execution_count": 245,
   "metadata": {},
   "outputs": [
    {
     "name": "stdout",
     "output_type": "stream",
     "text": [
      "\n",
      "Kappa score\n",
      "===========\n",
      "FgMDM on coherence        = 60.19\n",
      "FgMDM on covariance       = 64.94\n",
      "FgMDM on phase-lock value = 57.00\n",
      "---------------------------------\n",
      "Ensemble classifier       = 71.93\n",
      "\n",
      "Classifiers\n",
      "===========\n",
      "[('cov', Pipeline(memory=None,\n",
      "         steps=[('featconn', FeatConn(feat='Cov', subj=7)),\n",
      "                ('fgmdm2',\n",
      "                 FgMDM2(metric='logeuclid', n_jobs=1, tsupdate=True))],\n",
      "         verbose=False)), ('coh', Pipeline(memory=None,\n",
      "         steps=[('featconn', FeatConn(feat='Coh', subj=7)),\n",
      "                ('fgmdm2',\n",
      "                 FgMDM2(metric='logeuclid', n_jobs=1, tsupdate=True))],\n",
      "         verbose=False)), ('plv', Pipeline(memory=None,\n",
      "         steps=[('featconn', FeatConn(feat='PLV', subj=7)),\n",
      "                ('fgmdm2',\n",
      "                 FgMDM2(metric='logeuclid', n_jobs=1, tsupdate=True))],\n",
      "         verbose=False))]\n",
      "LogisticRegression(C=1.0, class_weight=None, dual=False, fit_intercept=True,\n",
      "                   intercept_scaling=1000.0, l1_ratio=0.1, max_iter=100,\n",
      "                   multi_class='auto', n_jobs=None, penalty='elasticnet',\n",
      "                   random_state=None, solver='saga', tol=0.0001, verbose=0,\n",
      "                   warm_start=False)\n"
     ]
    }
   ],
   "source": [
    "# cvkf = StratifiedKFold(n_splits=4 au lieu de 5, shuffle=True) et \n",
    "# RepeatedStratifiedKFold(n_splits=4, n_repeats=5 au lieu de 10,\n",
    "\n",
    "print (\"\"\"\n",
    "Kappa score\n",
    "===========\n",
    "FgMDM on coherence        = {:.2f}\n",
    "FgMDM on covariance       = {:.2f}\n",
    "FgMDM on phase-lock value = {:.2f}\n",
    "---------------------------------\n",
    "Ensemble classifier       = {:.2f}\n",
    "\n",
    "Classifiers\n",
    "===========\"\"\".format(\n",
    "    np.nanmean(df_strat[df_strat['estimator'] == 'fgMDM-Coh']['score'].to_numpy())*100,\n",
    "    np.nanmean(df_strat[df_strat['estimator'] == 'fgMDM-Cov']['score'].to_numpy())*100,\n",
    "    np.nanmean(df_strat[df_strat['estimator'] == 'fgMDM-PLV']['score'].to_numpy())*100,\n",
    "    np.nanmean(df_strat[df_strat['estimator'] == 'Ensemble']['score'].to_numpy())*100))\n",
    "\n",
    "print(scl.estimators)\n",
    "print(scl.final_estimator)"
   ]
  },
  {
   "cell_type": "code",
   "execution_count": 134,
   "metadata": {},
   "outputs": [
    {
     "name": "stdout",
     "output_type": "stream",
     "text": [
      "\n",
      "Kappa score\n",
      "===========\n",
      "FgMDM on coherence        = 59.68\n",
      "FgMDM on covariance       = 66.05\n",
      "FgMDM on phase-lock value = 58.01\n",
      "CSP+LDA on covariance     = 57.91\n",
      "---------------------------------\n",
      "Ensemble classifier       = 69.30\n",
      "\n",
      "Classifiers\n",
      "===========\n",
      "[('cov', Pipeline(memory=None,\n",
      "         steps=[('featconn', FeatConn(feat='Cov', subj=7)),\n",
      "                ('fgmdm2', FgMDM2(metric='riemann', n_jobs=-1, tsupdate=True))],\n",
      "         verbose=False)), ('coh', Pipeline(memory=None,\n",
      "         steps=[('featconn', FeatConn(feat='Coh', subj=7)),\n",
      "                ('fgmdm2', FgMDM2(metric='riemann', n_jobs=-1, tsupdate=True))],\n",
      "         verbose=False)), ('plv', Pipeline(memory=None,\n",
      "         steps=[('featconn', FeatConn(feat='PLV', subj=7)),\n",
      "                ('fgmdm2', FgMDM2(metric='riemann', n_jobs=-1, tsupdate=True))],\n",
      "         verbose=False))]\n",
      "LogisticRegression(C=1.0, class_weight=None, dual=False, fit_intercept=True,\n",
      "                   intercept_scaling=1000.0, l1_ratio=0.1, max_iter=100,\n",
      "                   multi_class='auto', n_jobs=None, penalty='elasticnet',\n",
      "                   random_state=None, solver='saga', tol=0.0001, verbose=0,\n",
      "                   warm_start=False)\n"
     ]
    }
   ],
   "source": [
    "print (\"\"\"\n",
    "Kappa score\n",
    "===========\n",
    "FgMDM on coherence        = {:.2f}\n",
    "FgMDM on covariance       = {:.2f}\n",
    "FgMDM on phase-lock value = {:.2f}\n",
    "CSP+LDA on covariance     = {:.2f}\n",
    "---------------------------------\n",
    "Ensemble classifier       = {:.2f}\n",
    "\n",
    "Classifiers\n",
    "===========\"\"\".format(\n",
    "    np.nanmean(df_strat[df_strat['estimator'] == 'fgMDM-Coh']['score'].to_numpy())*100,\n",
    "    np.nanmean(df_strat[df_strat['estimator'] == 'fgMDM-Cov']['score'].to_numpy())*100,\n",
    "    np.nanmean(df_strat[df_strat['estimator'] == 'fgMDM-PLV']['score'].to_numpy())*100,\n",
    "    np.nanmean(df_strat[df_strat['estimator'] == 'CSP-LDA']['score'].to_numpy())*100,\n",
    "    np.nanmean(df_strat[df_strat['estimator'] == 'Ensemble']['score'].to_numpy())*100))\n",
    "\n",
    "print(scl.estimators)\n",
    "print(scl.final_estimator)"
   ]
  },
  {
   "cell_type": "code",
   "execution_count": 264,
   "metadata": {},
   "outputs": [
    {
     "name": "stdout",
     "output_type": "stream",
     "text": [
      "\n",
      "Kappa score\n",
      "===========\n",
      "FgMDM on coherence        = 60.19\n",
      "FgMDM on covariance       = 64.94\n",
      "FgMDM on phase-lock value = 57.00\n",
      "MDM on AEC                = 7.31\n",
      "MDM on im coherence       = 16.75\n",
      "CSP+LDA on covariance     = 58.06\n",
      "CSP+SVM on covariance     = nan\n",
      "---------------------------------\n",
      "Ensemble classifier       = 71.33\n",
      "\n",
      "Classifiers\n",
      "===========\n",
      "[('cov', Pipeline(memory=None,\n",
      "         steps=[('featconn', FeatConn(feat='Cov', subj=7)),\n",
      "                ('fgmdm2',\n",
      "                 FgMDM2(metric='logeuclid', n_jobs=1, tsupdate=True))],\n",
      "         verbose=False)), ('coh', Pipeline(memory=None,\n",
      "         steps=[('featconn', FeatConn(feat='Coh', subj=7)),\n",
      "                ('fgmdm2',\n",
      "                 FgMDM2(metric='logeuclid', n_jobs=1, tsupdate=True))],\n",
      "         verbose=False)), ('plv', Pipeline(memory=None,\n",
      "         steps=[('featconn', FeatConn(feat='PLV', subj=7)),\n",
      "                ('fgmdm2',\n",
      "                 FgMDM2(metric='logeuclid', n_jobs=1, tsupdate=True))],\n",
      "         verbose=False))]\n",
      "LogisticRegression(C=1.0, class_weight=None, dual=False, fit_intercept=True,\n",
      "                   intercept_scaling=1000.0, l1_ratio=0.1, max_iter=100,\n",
      "                   multi_class='auto', n_jobs=None, penalty='elasticnet',\n",
      "                   random_state=None, solver='saga', tol=0.0001, verbose=0,\n",
      "                   warm_start=False)\n"
     ]
    },
    {
     "name": "stderr",
     "output_type": "stream",
     "text": [
      "/home/sylchev/anaconda3/lib/python3.7/site-packages/ipykernel_launcher.py:22: RuntimeWarning: Mean of empty slice\n"
     ]
    }
   ],
   "source": [
    "print (\"\"\"\n",
    "Kappa score\n",
    "===========\n",
    "FgMDM on coherence        = {:.2f}\n",
    "FgMDM on covariance       = {:.2f}\n",
    "FgMDM on phase-lock value = {:.2f}\n",
    "MDM on AEC                = {:.2f}\n",
    "MDM on im coherence       = {:.2f}\n",
    "CSP+LDA on covariance     = {:.2f}\n",
    "CSP+SVM on covariance     = {:.2f}\n",
    "---------------------------------\n",
    "Ensemble classifier       = {:.2f}\n",
    "\n",
    "Classifiers\n",
    "===========\"\"\".format(\n",
    "    np.nanmean(df_strat[df_strat['estimator'] == 'fgMDM-Coh']['score'].to_numpy())*100,\n",
    "    np.nanmean(df_strat[df_strat['estimator'] == 'fgMDM-Cov']['score'].to_numpy())*100,\n",
    "    np.nanmean(df_strat[df_strat['estimator'] == 'fgMDM-PLV']['score'].to_numpy())*100,\n",
    "    np.nanmean(df_strat[df_strat['estimator'] == 'MDM-AEC']['score'].to_numpy())*100,\n",
    "    np.nanmean(df_strat[df_strat['estimator'] == 'MDM-ICoh']['score'].to_numpy())*100,\n",
    "    np.nanmean(df_strat[df_strat['estimator'] == 'CSP-LDA']['score'].to_numpy())*100,\n",
    "    np.nanmean(df_strat[df_strat['estimator'] == 'CSP-SVM']['score'].to_numpy())*100,\n",
    "    np.nanmean(df_strat[df_strat['estimator'] == 'Ensemble']['score'].to_numpy())*100))\n",
    "\n",
    "print(scl.estimators)\n",
    "print(scl.final_estimator)"
   ]
  },
  {
   "cell_type": "markdown",
   "metadata": {},
   "source": [
    "## bad results"
   ]
  },
  {
   "cell_type": "code",
   "execution_count": 158,
   "metadata": {},
   "outputs": [
    {
     "name": "stdout",
     "output_type": "stream",
     "text": [
      "\n",
      "Kappa score\n",
      "===========\n",
      "FgMDM on coherence        = 52.44\n",
      "FgMDM on Covariance       = 50.00\n",
      "FgMDM on Phase-Lock Value = 50.88\n",
      "---------------------------------\n",
      "Ensemble classifier       = 58.69\n",
      "\n",
      "Classifiers\n",
      "===========\n",
      "[('cov', Pipeline(memory=None,\n",
      "         steps=[('featconn', FeatConn(feat='Cov', subj=0)),\n",
      "                ('fgmdm2',\n",
      "                 FgMDM2(metric='logeuclid', n_jobs=1, tsupdate=True))],\n",
      "         verbose=False)), ('coh', Pipeline(memory=None,\n",
      "         steps=[('featconn', FeatConn(feat='Coh', subj=0)),\n",
      "                ('fgmdm2',\n",
      "                 FgMDM2(metric='logeuclid', n_jobs=1, tsupdate=True))],\n",
      "         verbose=False)), ('plv', Pipeline(memory=None,\n",
      "         steps=[('featconn', FeatConn(feat='PLV', subj=0)),\n",
      "                ('fgmdm2',\n",
      "                 FgMDM2(metric='logeuclid', n_jobs=1, tsupdate=True))],\n",
      "         verbose=False))]\n",
      "LogisticRegression(C=1.0, class_weight=None, dual=False, fit_intercept=True,\n",
      "                   intercept_scaling=1000.0, l1_ratio=0.1, max_iter=100,\n",
      "                   multi_class='auto', n_jobs=None, penalty='elasticnet',\n",
      "                   random_state=None, solver='saga', tol=0.0001, verbose=0,\n",
      "                   warm_start=False)\n"
     ]
    }
   ],
   "source": [
    "print (\"\"\"\n",
    "Kappa score\n",
    "===========\n",
    "FgMDM on coherence        = {:.2f}\n",
    "FgMDM on covariance       = {:.2f}\n",
    "FgMDM on phase-lock value = {:.2f}\n",
    "---------------------------------\n",
    "Ensemble classifier       = {:.2f}\n",
    "\n",
    "Classifiers\n",
    "===========\"\"\".format(\n",
    "    df_strat[df_strat['estimator'] == 'Coh']['score'].to_numpy().mean()*100,\n",
    "    df_strat[df_strat['estimator'] == 'Cov']['score'].to_numpy().mean()*100,\n",
    "    df_strat[df_strat['estimator'] == 'PLV']['score'].to_numpy().mean()*100,\n",
    "    df_strat[df_strat['estimator'] == 'Ensemble']['score'].to_numpy().mean()*100))\n",
    "\n",
    "print(scl.estimators)\n",
    "print(scl.final_estimator)"
   ]
  },
  {
   "cell_type": "code",
   "execution_count": 217,
   "metadata": {},
   "outputs": [
    {
     "name": "stdout",
     "output_type": "stream",
     "text": [
      "\n",
      "play with l1_ratio -> 0.1 instead of 0.1\n",
      "\n",
      "Kappa score\n",
      "===========\n",
      "FgMDM on coherence        = 52.44\n",
      "FgMDM on covariance       = 50.00\n",
      "FgMDM on phase-lock value = 50.88\n",
      "CSP+LDA on covariance     = 43.06\n",
      "---------------------------------\n",
      "Ensemble classifier       = 57.69\n",
      "\n",
      "Classifiers\n",
      "===========\n",
      "[('cov', Pipeline(memory=None,\n",
      "         steps=[('featconn', FeatConn(feat='Cov', subj=0)),\n",
      "                ('fgmdm2',\n",
      "                 FgMDM2(metric='logeuclid', n_jobs=1, tsupdate=True))],\n",
      "         verbose=False)), ('coh', Pipeline(memory=None,\n",
      "         steps=[('featconn', FeatConn(feat='Coh', subj=0)),\n",
      "                ('fgmdm2',\n",
      "                 FgMDM2(metric='logeuclid', n_jobs=1, tsupdate=True))],\n",
      "         verbose=False)), ('plv', Pipeline(memory=None,\n",
      "         steps=[('featconn', FeatConn(feat='PLV', subj=0)),\n",
      "                ('fgmdm2',\n",
      "                 FgMDM2(metric='logeuclid', n_jobs=1, tsupdate=True))],\n",
      "         verbose=False))]\n",
      "LogisticRegression(C=1.0, class_weight=None, dual=False, fit_intercept=True,\n",
      "                   intercept_scaling=1000.0, l1_ratio=0.1, max_iter=100,\n",
      "                   multi_class='auto', n_jobs=None, penalty='elasticnet',\n",
      "                   random_state=None, solver='saga', tol=0.0001, verbose=0,\n",
      "                   warm_start=False)\n"
     ]
    }
   ],
   "source": [
    "print (\"\"\"\n",
    "play with l1_ratio -> 0.1 instead of 0.1\n",
    "\n",
    "Kappa score\n",
    "===========\n",
    "FgMDM on coherence        = {:.2f}\n",
    "FgMDM on covariance       = {:.2f}\n",
    "FgMDM on phase-lock value = {:.2f}\n",
    "CSP+LDA on covariance     = {:.2f}\n",
    "---------------------------------\n",
    "Ensemble classifier       = {:.2f}\n",
    "\n",
    "Classifiers\n",
    "===========\"\"\".format(\n",
    "    df_strat[df_strat['estimator'] == 'Coh']['score'].to_numpy().mean()*100,\n",
    "    df_strat[df_strat['estimator'] == 'Cov']['score'].to_numpy().mean()*100,\n",
    "    df_strat[df_strat['estimator'] == 'PLV']['score'].to_numpy().mean()*100,\n",
    "    df_strat[df_strat['estimator'] == 'CSP']['score'].to_numpy().mean()*100,\n",
    "    df_strat[df_strat['estimator'] == 'Ensemble']['score'].to_numpy().mean()*100))\n",
    "\n",
    "print(scl.estimators)\n",
    "print(scl.final_estimator)"
   ]
  },
  {
   "cell_type": "code",
   "execution_count": 212,
   "metadata": {},
   "outputs": [
    {
     "name": "stdout",
     "output_type": "stream",
     "text": [
      "\n",
      "play with l1_ratio -> 0.2 instead of 0.1\n",
      "\n",
      "Kappa score\n",
      "===========\n",
      "FgMDM on coherence        = 52.44\n",
      "FgMDM on covariance       = 50.00\n",
      "FgMDM on phase-lock value = 50.88\n",
      "CSP+LDA on covariance     = 43.06\n",
      "---------------------------------\n",
      "Ensemble classifier       = 58.06\n",
      "\n",
      "Classifiers\n",
      "===========\n",
      "[('cov', Pipeline(memory=None,\n",
      "         steps=[('featconn', FeatConn(feat='Cov', subj=0)),\n",
      "                ('fgmdm2',\n",
      "                 FgMDM2(metric='logeuclid', n_jobs=1, tsupdate=True))],\n",
      "         verbose=False)), ('coh', Pipeline(memory=None,\n",
      "         steps=[('featconn', FeatConn(feat='Coh', subj=0)),\n",
      "                ('fgmdm2',\n",
      "                 FgMDM2(metric='logeuclid', n_jobs=1, tsupdate=True))],\n",
      "         verbose=False)), ('plv', Pipeline(memory=None,\n",
      "         steps=[('featconn', FeatConn(feat='PLV', subj=0)),\n",
      "                ('fgmdm2',\n",
      "                 FgMDM2(metric='logeuclid', n_jobs=1, tsupdate=True))],\n",
      "         verbose=False))]\n",
      "LogisticRegression(C=1.0, class_weight=None, dual=False, fit_intercept=True,\n",
      "                   intercept_scaling=1000.0, l1_ratio=0.2, max_iter=100,\n",
      "                   multi_class='auto', n_jobs=None, penalty='elasticnet',\n",
      "                   random_state=None, solver='saga', tol=0.0001, verbose=0,\n",
      "                   warm_start=False)\n"
     ]
    }
   ],
   "source": [
    "print (\"\"\"\n",
    "play with l1_ratio -> 0.2 instead of 0.1\n",
    "\n",
    "Kappa score\n",
    "===========\n",
    "FgMDM on coherence        = {:.2f}\n",
    "FgMDM on covariance       = {:.2f}\n",
    "FgMDM on phase-lock value = {:.2f}\n",
    "CSP+LDA on covariance     = {:.2f}\n",
    "---------------------------------\n",
    "Ensemble classifier       = {:.2f}\n",
    "\n",
    "Classifiers\n",
    "===========\"\"\".format(\n",
    "    df_strat[df_strat['estimator'] == 'Coh']['score'].to_numpy().mean()*100,\n",
    "    df_strat[df_strat['estimator'] == 'Cov']['score'].to_numpy().mean()*100,\n",
    "    df_strat[df_strat['estimator'] == 'PLV']['score'].to_numpy().mean()*100,\n",
    "    df_strat[df_strat['estimator'] == 'CSP']['score'].to_numpy().mean()*100,\n",
    "    df_strat[df_strat['estimator'] == 'Ensemble']['score'].to_numpy().mean()*100))\n",
    "\n",
    "print(scl.estimators)\n",
    "print(scl.final_estimator)"
   ]
  },
  {
   "cell_type": "markdown",
   "metadata": {},
   "source": [
    "# Dead code"
   ]
  },
  {
   "cell_type": "code",
   "execution_count": 38,
   "metadata": {},
   "outputs": [],
   "source": [
    "s = 0\n",
    "X = np.array([i for i in range(80)])\n",
    "y = y_train_all[s]\n",
    "le = LabelEncoder()\n",
    "y = le.fit_transform(y)\n",
    "all_res = []\n",
    "\n",
    "rskf = RepeatedStratifiedKFold(n_splits=4, n_repeats=5, random_state=1)\n",
    "for train_index, test_index in rskf.split(X, y):\n",
    "    X_train, X_test = X[train_index], X[test_index]\n",
    "    y_train, y_test = y[train_index], y[test_index]\n",
    "    pipelines['fgMDM-Coh'].fit(X_train, y_train)\n",
    "    y_pred = pipelines['fgMDM-Coh'].predict(X_test)\n",
    "    res = {'subject': str(s),\n",
    "           'score': cohen_kappa_score(y_pred, y_test),\n",
    "           'estimator': \"Coh\"}\n",
    "    all_res.append(res)\n",
    "    pipelines['fgMDM-Cov'].fit(X_train, y_train)\n",
    "    y_pred = pipelines['fgMDM-Cov'].predict(X_test)\n",
    "    res = {'subject': str(s),\n",
    "           'score': cohen_kappa_score(y_pred, y_test),\n",
    "           'estimator': \"Cov\"}\n",
    "    all_res.append(res)\n",
    "    pipelines['fgMDM-PLV'].fit(X_train, y_train)\n",
    "    y_pred = pipelines['fgMDM-PLV'].predict(X_test)\n",
    "    res = {'subject': str(s),\n",
    "           'score': cohen_kappa_score(y_pred, y_test),\n",
    "           'estimator': \"PLV\"}\n",
    "    all_res.append(res)\n",
    "df_s0 = pd.DataFrame(all_res)"
   ]
  },
  {
   "cell_type": "code",
   "execution_count": 219,
   "metadata": {},
   "outputs": [
    {
     "data": {
      "application/vnd.jupyter.widget-view+json": {
       "model_id": "b857ef14b6154abfaaa31da69f1e0b6a",
       "version_major": 2,
       "version_minor": 0
      },
      "text/plain": [
       "HBox(children=(FloatProgress(value=0.0, max=8.0), HTML(value='')))"
      ]
     },
     "metadata": {},
     "output_type": "display_data"
    },
    {
     "name": "stdout",
     "output_type": "stream",
     "text": [
      "\n"
     ]
    }
   ],
   "source": [
    "d_ = loadmat(\"Coh_Training_121280.mat\", squeeze_me=True)\n",
    "y_train_all = []\n",
    "for i in range(0, 8):\n",
    "    y_train_all.append(d_['MatCoh'][i, 1])\n",
    "X = np.array([i for i in range(80)])\n",
    "\n",
    "all_res = []\n",
    "for s in trange(8):\n",
    "    y = y_train_all[s]\n",
    "    le = LabelEncoder()\n",
    "    y = le.fit_transform(y)\n",
    "    \n",
    "    for p in pipelines:\n",
    "        scores = cross_val_score(pipelines[p], X, y, n_jobs=-1,\n",
    "                                 scoring=make_scorer(cohen_kappa_score), \n",
    "                                 cv=RepeatedStratifiedKFold(n_splits=4, \n",
    "                                                            n_repeats=5,\n",
    "                                                            random_state=1))\n",
    "        for sc in scores:\n",
    "            res = {'subject': str(s+1),\n",
    "                   'score': sc,\n",
    "                   'estimator': p}\n",
    "            all_res.append(res)\n",
    "df_strat = pd.DataFrame(all_res)            \n",
    "\n",
    "    sc_coh = cross_val_score(pipelines['fgMDM-Coh'], X, y, n_jobs=-1,\n",
    "                             scoring=make_scorer(cohen_kappa_score), \n",
    "                             cv=RepeatedStratifiedKFold(n_splits=4, n_repeats=5, random_state=1))\n",
    "    sc_cov = cross_val_score(pipelines['fgMDM-Cov'], X, y, n_jobs=-1,\n",
    "                             scoring=make_scorer(cohen_kappa_score), \n",
    "                             cv=RepeatedStratifiedKFold(n_splits=4, n_repeats=5, random_state=1))\n",
    "    sc_plv = cross_val_score(pipelines['fgMDM-PLV'], X, y, n_jobs=-1,\n",
    "                             scoring=make_scorer(cohen_kappa_score), \n",
    "                             cv=RepeatedStratifiedKFold(n_splits=4, n_repeats=5, random_state=1))\n",
    "    #sc_csp = cross_val_score(pipelines['CSP-LDA'], X, y, n_jobs=-1,\n",
    "    #                         scoring=make_scorer(cohen_kappa_score), \n",
    "    #                         cv=RepeatedStratifiedKFold(n_splits=4, n_repeats=5, random_state=1))\n",
    "    sc_scl = cross_val_score(scl, X, y, n_jobs=-1,\n",
    "                             scoring=make_scorer(cohen_kappa_score), \n",
    "                             cv=RepeatedStratifiedKFold(n_splits=4, n_repeats=5, random_state=1))\n",
    "    #for s_coh, s_cov, s_plv, s_csp, s_scl in zip(sc_coh, sc_cov, sc_plv, sc_csp, sc_scl):\n",
    "    for s_coh, s_cov, s_plv, s_scl in zip(sc_coh, sc_cov, sc_plv, sc_scl):\n",
    "        res = {'subject': str(s+1),\n",
    "               'score': s_coh,\n",
    "               'estimator': \"Coh\"}\n",
    "        all_res.append(res)\n",
    "        res = {'subject': str(s+1),\n",
    "               'score': s_cov,\n",
    "               'estimator': \"Cov\"}\n",
    "        all_res.append(res)\n",
    "        res = {'subject': str(s+1),\n",
    "               'score': s_plv,\n",
    "               'estimator': \"PLV\"}\n",
    "        all_res.append(res)\n",
    "#        res = {'subject': str(s+1),\n",
    "#               'score': s_csp,\n",
    "#               'estimator': \"CSP\"}\n",
    "#        all_res.append(res)\n",
    "        res = {'subject': str(s+1),\n",
    "               'score': s_scl,\n",
    "               'estimator': \"Ensemble\"}\n",
    "        all_res.append(res)\n",
    "df_strat = pd.DataFrame(all_res)"
   ]
  },
  {
   "cell_type": "code",
   "execution_count": 88,
   "metadata": {},
   "outputs": [
    {
     "name": "stdout",
     "output_type": "stream",
     "text": [
      "subj =  0\n",
      "il y a  1 artefacts\n",
      "ok coh\n",
      "subj =  1\n",
      "il y a  0 artefacts\n",
      "ok coh\n",
      "subj =  2\n",
      "il y a  0 artefacts\n",
      "ok coh\n",
      "subj =  3\n",
      "il y a  0 artefacts\n",
      "ok coh\n",
      "subj =  4\n",
      "il y a  0 artefacts\n",
      "ok coh\n",
      "subj =  5\n",
      "il y a  1 artefacts\n",
      "ok coh\n",
      "subj =  6\n",
      "il y a  0 artefacts\n",
      "ok coh\n",
      "subj =  7\n",
      "il y a  1 artefacts\n",
      "ok coh\n"
     ]
    }
   ],
   "source": [
    "from pyriemann.utils.mean import mean_riemann\n",
    "\n",
    "for s in range(8):\n",
    "    print (\"subj = \", s)\n",
    "    mat = FeatConn(\"Coh\", s).transform(X)\n",
    "    pt = Potato(metric='logeuclid', threshold=5, pos_label=1, neg_label=0).fit(mat)\n",
    "    artefact = (pt.predict(mat) == 1)\n",
    "    print (\"il y a \", len(mat)-artefact.sum(), \"artefacts\")\n",
    "    #fig, axes = plt.subplots(8, 10, figsize=(10, 10))\n",
    "    #for i, ax in enumerate(axes.flatten()):\n",
    "    #    if not artefact[i]: ax.imshow(mat[i], cmap=\"magma\")\n",
    "    #    else: ax.imshow(mat[i], cmap=\"viridis\")\n",
    "    #    ax.axis('off')\n",
    "    #plt.figure()\n",
    "    #plt.imshow(mean_riemann(mat[artefact]), cmap=\"viridis\")\n",
    "    mean_riemann(mat[artefact])\n",
    "    print('ok coh')"
   ]
  },
  {
   "cell_type": "markdown",
   "metadata": {},
   "source": [
    "# Ideas\n",
    "\n",
    "- [ ] test linear_model.RidgeClassifier\n",
    "- [X] inclure CSP+LDA -> bof, baisse les résultats\n",
    "- [X] include ICoh, AEC en MDM -> Bof, baisse les résultats\n",
    "- [X] logeuclidian converge alors que AIRM non !\n",
    "- [ ] tester avec la patate riemannienne\n",
    "- [ ] regarder le signal des sujets\n",
    "- [X] Graphical Lasso pour estimer la matrice de covariance => Trop lent !"
   ]
  },
  {
   "cell_type": "code",
   "execution_count": null,
   "metadata": {},
   "outputs": [],
   "source": []
  }
 ],
 "metadata": {
  "kernelspec": {
   "display_name": "Python 3",
   "language": "python",
   "name": "python3"
  },
  "language_info": {
   "codemirror_mode": {
    "name": "ipython",
    "version": 3
   },
   "file_extension": ".py",
   "mimetype": "text/x-python",
   "name": "python",
   "nbconvert_exporter": "python",
   "pygments_lexer": "ipython3",
   "version": "3.7.5"
  }
 },
 "nbformat": 4,
 "nbformat_minor": 4
}
