{
 "cells": [
  {
   "cell_type": "code",
   "execution_count": 94,
   "metadata": {},
   "outputs": [],
   "source": [
    "import numpy as np\n",
    "import matplotlib.pyplot as plt\n",
    "import seaborn as sns\n",
    "import mne\n",
    "import pandas as pd\n",
    "from scipy.io import loadmat\n",
    "\n",
    "from sklearn.base import BaseEstimator, TransformerMixin\n",
    "from sklearn.discriminant_analysis import LinearDiscriminantAnalysis as LDA\n",
    "from sklearn.ensemble import GradientBoostingClassifier, StackingClassifier\n",
    "from sklearn.linear_model import ElasticNetCV, LogisticRegression\n",
    "from sklearn.model_selection import cross_val_score, RepeatedStratifiedKFold, StratifiedKFold\n",
    "from sklearn.svm import SVC\n",
    "from sklearn.preprocessing import LabelEncoder\n",
    "from sklearn.pipeline import make_pipeline\n",
    "from sklearn.metrics import cohen_kappa_score, make_scorer\n",
    "\n",
    "from pyriemann.classification import MDM, FgMDM, TSclassifier\n",
    "from pyriemann.estimation import Covariances\n",
    "from pyriemann.tangentspace import TangentSpace\n",
    "\n",
    "from mne.decoding import CSP\n",
    "from tqdm.notebook import trange, tqdm\n",
    "\n",
    "%matplotlib inline"
   ]
  },
  {
   "cell_type": "code",
   "execution_count": 4,
   "metadata": {},
   "outputs": [],
   "source": [
    "scoring = 'accuracy' # kappa score"
   ]
  },
  {
   "cell_type": "code",
   "execution_count": 5,
   "metadata": {},
   "outputs": [],
   "source": [
    "def isPD(B):\n",
    "    \"\"\"Returns true when input is positive-definite, via Cholesky\"\"\"\n",
    "    try:\n",
    "        _ = np.linalg.cholesky(B)\n",
    "        return True\n",
    "    except np.linalg.LinAlgError:\n",
    "        return False\n",
    "\n",
    "def isPD2(B):\n",
    "    \"\"\"Returns true when input is positive-definite, via Cholesky\"\"\"\n",
    "    if np.any(np.linalg.eigvals(B) < 0.):\n",
    "        return False\n",
    "    else: return True\n",
    "\n",
    "def nearestPD(A):\n",
    "    \"\"\"Find the nearest positive-definite matrix to input\n",
    "\n",
    "    A Python/Numpy port of John D'Errico's `nearestSPD` MATLAB code [1], which\n",
    "    credits [2].\n",
    "\n",
    "    [1] https://www.mathworks.com/matlabcentral/fileexchange/42885-nearestspd\n",
    "\n",
    "    [2] N.J. Higham, \"Computing a nearest symmetric positive semidefinite\n",
    "    matrix\" (1988): https://doi.org/10.1016/0024-3795(88)90223-6\n",
    "    \"\"\"\n",
    "\n",
    "    B = (A + A.T) / 2\n",
    "    _, s, V = np.linalg.svd(B)\n",
    "\n",
    "    H = np.dot(V.T, np.dot(np.diag(s), V))\n",
    "\n",
    "    A2 = (B + H) / 2\n",
    "\n",
    "    A3 = (A2 + A2.T) / 2\n",
    "\n",
    "    if isPD(A3):\n",
    "        return A3\n",
    "\n",
    "    spacing = np.spacing(np.linalg.norm(A))\n",
    "    I = np.eye(A.shape[0])\n",
    "    k = 1\n",
    "    while not isPD(A3):\n",
    "        mineig = np.min(np.real(np.linalg.eigvals(A3)))\n",
    "        A3 += I * (-mineig * k**2 + spacing)\n",
    "        k += 1\n",
    "    return A3"
   ]
  },
  {
   "cell_type": "code",
   "execution_count": 56,
   "metadata": {},
   "outputs": [],
   "source": [
    "def load_data(feat, subj, idx):\n",
    "    if feat == \"Cov\":\n",
    "        d = loadmat(\"AlphaBetaTogether/Cov_Training_All.mat\", squeeze_me=True)\n",
    "    else: d = loadmat(feat+\"_Training_121280.mat\", squeeze_me=True)\n",
    "    X = np.array(np.transpose(d['Mat'+feat][subj, 0], axes=(2, 0, 1)))\n",
    "    for i in range(80):\n",
    "        if not isPD2(X[i]): X[i] = nearestPD(X[i])\n",
    "    return X[idx]"
   ]
  },
  {
   "cell_type": "code",
   "execution_count": 57,
   "metadata": {},
   "outputs": [],
   "source": [
    "class FeatConn(TransformerMixin, BaseEstimator):\n",
    "    \"\"\"Getting connectivity features from mat files\n",
    "    \"\"\"\n",
    "    def __init__(self, feat=\"Cov\", subj=0):\n",
    "        self.feat = feat\n",
    "        self.subj = subj\n",
    "    \n",
    "    def fit(self, X, y=None):\n",
    "        pass\n",
    "    \n",
    "    def transform(self, X):\n",
    "        return load_data(self.feat, self.subj, X)\n",
    "    \n",
    "    def fit_transform(self, X, y=None):\n",
    "        return self.transform(X)"
   ]
  },
  {
   "cell_type": "code",
   "execution_count": 58,
   "metadata": {},
   "outputs": [],
   "source": [
    "import numpy\n",
    "\n",
    "from scipy import stats\n",
    "\n",
    "from sklearn.base import BaseEstimator, ClassifierMixin, TransformerMixin\n",
    "from sklearn.linear_model import LogisticRegression\n",
    "from sklearn.utils.extmath import softmax\n",
    "from sklearn.utils.multiclass import unique_labels\n",
    "from sklearn.pipeline import make_pipeline\n",
    "from joblib import Parallel, delayed\n",
    "\n",
    "from pyriemann.utils.mean import mean_covariance\n",
    "from pyriemann.utils.distance import distance\n",
    "from pyriemann.tangentspace import FGDA, TangentSpace\n",
    "\n",
    "class FgMDM2(BaseEstimator, ClassifierMixin, TransformerMixin):\n",
    "    def __init__(self, metric='riemann', tsupdate=False, n_jobs=1):\n",
    "        \"\"\"Init.\"\"\"\n",
    "        self.metric = metric\n",
    "        self.n_jobs = n_jobs\n",
    "        self.tsupdate = tsupdate\n",
    "\n",
    "        if isinstance(metric, str):\n",
    "            self.metric_mean = metric\n",
    "\n",
    "        elif isinstance(metric, dict):\n",
    "            # check keys\n",
    "            for key in ['mean', 'distance']:\n",
    "                if key not in metric.keys():\n",
    "                    raise KeyError('metric must contain \"mean\" and \"distance\"')\n",
    "\n",
    "            self.metric_mean = metric['mean']\n",
    "\n",
    "        else:\n",
    "            raise TypeError('metric must be dict or str')\n",
    "\n",
    "    def fit(self, X, y):\n",
    "        self.classes_ = unique_labels(y)\n",
    "        self._mdm = MDM(metric=self.metric, n_jobs=self.n_jobs)\n",
    "        self._fgda = FGDA(metric=self.metric_mean, tsupdate=self.tsupdate)\n",
    "        cov = self._fgda.fit_transform(X, y)\n",
    "        self._mdm.fit(cov, y)\n",
    "        return self\n",
    "\n",
    "    def predict(self, X):\n",
    "        cov = self._fgda.transform(X)\n",
    "        return self._mdm.predict(cov)\n",
    "    \n",
    "    def predict_proba(self, X):\n",
    "        cov = self._fgda.transform(X)\n",
    "        return self._mdm.predict_proba(cov)\n",
    "    \n",
    "    def transform(self, X):\n",
    "        cov = self._fgda.transform(X)\n",
    "        return self._mdm.transform(cov)"
   ]
  },
  {
   "cell_type": "code",
   "execution_count": 146,
   "metadata": {},
   "outputs": [],
   "source": [
    "pipelines = {}\n",
    "pipelines['fgMDM-Coh'] = make_pipeline(\n",
    "    FeatConn(\"Coh\", 0),\n",
    "    FgMDM2(metric='logeuclid', tsupdate=True, n_jobs=1))\n",
    "pipelines['fgMDM-PLV'] = make_pipeline(\n",
    "    FeatConn(\"PLV\", 0),\n",
    "    FgMDM2(metric='logeuclid', tsupdate=True, n_jobs=1))\n",
    "pipelines['fgMDM-Cov'] = make_pipeline(\n",
    "    FeatConn(\"Cov\", 0),\n",
    "    FgMDM2(metric='logeuclid', tsupdate=True, n_jobs=1))\n",
    "\n",
    "estimators = [('cov', pipelines['fgMDM-Cov']),\n",
    "              ('coh', pipelines['fgMDM-Coh']),\n",
    "              ('plv', pipelines['fgMDM-PLV'])]\n",
    "# final_estimator = LogisticRegression()\n",
    "final_estimator = LogisticRegression(penalty='elasticnet', l1_ratio=0.1, intercept_scaling=1000., solver='saga')\n",
    "\n",
    "\n",
    "# Pas terrible...\n",
    "# final_estimator = GradientBoostingClassifier(random_state=42)\n",
    "# from sklearn.linear_model import SGDClassifier\n",
    "# final_estimator = SGDClassifier(loss='log', penalty='elasticnet', l1_ratio=0.1)\n",
    "\n",
    "cvkf = StratifiedKFold(n_splits=4, shuffle=True)\n",
    "scl = StackingClassifier(\n",
    "        estimators=estimators,\n",
    "        cv = cvkf, n_jobs = 1,\n",
    "        final_estimator=final_estimator,\n",
    "        stack_method='predict_proba')"
   ]
  },
  {
   "cell_type": "code",
   "execution_count": 147,
   "metadata": {},
   "outputs": [],
   "source": [
    "d_ = loadmat(\"Coh_Training_121280.mat\", squeeze_me=True)\n",
    "y_train_all = []\n",
    "for i in range(0, 8):\n",
    "    y_train_all.append(d_['MatCoh'][i, 1])\n",
    "X = np.array([i for i in range(80)])\n",
    "\n",
    "all_res = []\n",
    "for s in range(8):\n",
    "    y = y_train_all[s]\n",
    "    le = LabelEncoder()\n",
    "    y = le.fit_transform(y)\n",
    "\n",
    "    sc_coh = cross_val_score(pipelines['fgMDM-Coh'], X, y, n_jobs=-1,\n",
    "                             scoring=make_scorer(cohen_kappa_score), \n",
    "                             cv=RepeatedStratifiedKFold(n_splits=4, n_repeats=5, random_state=1))\n",
    "    sc_cov = cross_val_score(pipelines['fgMDM-Cov'], X, y, n_jobs=-1,\n",
    "                             scoring=make_scorer(cohen_kappa_score), \n",
    "                             cv=RepeatedStratifiedKFold(n_splits=4, n_repeats=5, random_state=1))\n",
    "    sc_plv = cross_val_score(pipelines['fgMDM-PLV'], X, y, n_jobs=-1,\n",
    "                             scoring=make_scorer(cohen_kappa_score), \n",
    "                             cv=RepeatedStratifiedKFold(n_splits=4, n_repeats=5, random_state=1))\n",
    "    sc_scl = cross_val_score(scl, X, y, n_jobs=-1,\n",
    "                             scoring=make_scorer(cohen_kappa_score), \n",
    "                             cv=RepeatedStratifiedKFold(n_splits=4, n_repeats=5, random_state=1))\n",
    "    for s_coh, s_cov, s_plv, s_scl in zip(sc_coh, sc_cov, sc_plv, sc_scl):\n",
    "        res = {'subject': str(s+1),\n",
    "               'score': s_coh,\n",
    "               'estimator': \"Coh\"}\n",
    "        all_res.append(res)\n",
    "        res = {'subject': str(s+1),\n",
    "               'score': s_cov,\n",
    "               'estimator': \"Cov\"}\n",
    "        all_res.append(res)\n",
    "        res = {'subject': str(s+1),\n",
    "               'score': s_plv,\n",
    "               'estimator': \"PLV\"}\n",
    "        all_res.append(res)\n",
    "        res = {'subject': str(s+1),\n",
    "               'score': s_scl,\n",
    "               'estimator': \"Ensemble\"}\n",
    "        all_res.append(res)\n",
    "df_strat = pd.DataFrame(all_res)"
   ]
  },
  {
   "cell_type": "code",
   "execution_count": 148,
   "metadata": {},
   "outputs": [
    {
     "data": {
      "image/png": "[encoded data removed]",
      "text/plain": [
       "<Figure size 948.875x432 with 1 Axes>"
      ]
     },
     "metadata": {
      "needs_background": "light"
     },
     "output_type": "display_data"
    }
   ],
   "source": [
    "sns.catplot(x='subject', y='score', hue='estimator', kind=\"box\", \n",
    "            data=df_strat, palette='viridis', height=6, aspect=2)\n",
    "plt.savefig(\"ensemble-subject.png\")"
   ]
  },
  {
   "cell_type": "code",
   "execution_count": 149,
   "metadata": {},
   "outputs": [
    {
     "data": {
      "image/png": "[encoded data removed]",
      "text/plain": [
       "<Figure size 864x432 with 1 Axes>"
      ]
     },
     "metadata": {
      "needs_background": "light"
     },
     "output_type": "display_data"
    }
   ],
   "source": [
    "sns.catplot(x='estimator', y='score', kind='bar', data=df_strat, \n",
    "            height=6, aspect=2, palette=\"viridis\")\n",
    "plt.savefig(\"ensemble-classif.png\")"
   ]
  },
  {
   "cell_type": "code",
   "execution_count": 151,
   "metadata": {},
   "outputs": [
    {
     "name": "stdout",
     "output_type": "stream",
     "text": [
      "\n",
      "Kappa score\n",
      "===========\n",
      "FgMDM on coherence        = 52.44\n",
      "FgMDM on Covariance       = 50.00\n",
      "FgMDM on Phase-Lock Value = 50.88\n",
      "---------------------------------\n",
      "Ensemble classifier       = 58.69\n"
     ]
    }
   ],
   "source": [
    "print (\"\"\"\n",
    "Kappa score\n",
    "===========\n",
    "FgMDM on coherence        = {:.2f}\n",
    "FgMDM on Covariance       = {:.2f}\n",
    "FgMDM on Phase-Lock Value = {:.2f}\n",
    "---------------------------------\n",
    "Ensemble classifier       = {:.2f}\"\"\".format(\n",
    "    df_strat[df_strat['estimator'] == 'Coh']['score'].to_numpy().mean()*100,\n",
    "    df_strat[df_strat['estimator'] == 'Cov']['score'].to_numpy().mean()*100,\n",
    "    df_strat[df_strat['estimator'] == 'PLV']['score'].to_numpy().mean()*100,\n",
    "    df_strat[df_strat['estimator'] == 'Ensemble']['score'].to_numpy().mean()*100))"
   ]
  },
  {
   "cell_type": "markdown",
   "metadata": {},
   "source": [
    "# Dead code"
   ]
  },
  {
   "cell_type": "code",
   "execution_count": 38,
   "metadata": {},
   "outputs": [],
   "source": [
    "s = 0\n",
    "X = np.array([i for i in range(80)])\n",
    "y = y_train_all[s]\n",
    "le = LabelEncoder()\n",
    "y = le.fit_transform(y)\n",
    "all_res = []\n",
    "\n",
    "rskf = RepeatedStratifiedKFold(n_splits=4, n_repeats=5, random_state=1)\n",
    "for train_index, test_index in rskf.split(X, y):\n",
    "    X_train, X_test = X[train_index], X[test_index]\n",
    "    y_train, y_test = y[train_index], y[test_index]\n",
    "    pipelines['fgMDM-Coh'].fit(X_train, y_train)\n",
    "    y_pred = pipelines['fgMDM-Coh'].predict(X_test)\n",
    "    res = {'subject': str(s),\n",
    "           'score': cohen_kappa_score(y_pred, y_test),\n",
    "           'estimator': \"Coh\"}\n",
    "    all_res.append(res)\n",
    "    pipelines['fgMDM-Cov'].fit(X_train, y_train)\n",
    "    y_pred = pipelines['fgMDM-Cov'].predict(X_test)\n",
    "    res = {'subject': str(s),\n",
    "           'score': cohen_kappa_score(y_pred, y_test),\n",
    "           'estimator': \"Cov\"}\n",
    "    all_res.append(res)\n",
    "    pipelines['fgMDM-PLV'].fit(X_train, y_train)\n",
    "    y_pred = pipelines['fgMDM-PLV'].predict(X_test)\n",
    "    res = {'subject': str(s),\n",
    "           'score': cohen_kappa_score(y_pred, y_test),\n",
    "           'estimator': \"PLV\"}\n",
    "    all_res.append(res)\n",
    "df_s0 = pd.DataFrame(all_res)"
   ]
  },
  {
   "cell_type": "code",
   "execution_count": null,
   "metadata": {},
   "outputs": [],
   "source": []
  }
 ],
 "metadata": {
  "kernelspec": {
   "display_name": "Python 3",
   "language": "python",
   "name": "python3"
  },
  "language_info": {
   "codemirror_mode": {
    "name": "ipython",
    "version": 3
   },
   "file_extension": ".py",
   "mimetype": "text/x-python",
   "name": "python",
   "nbconvert_exporter": "python",
   "pygments_lexer": "ipython3",
   "version": "3.7.5"
  }
 },
 "nbformat": 4,
 "nbformat_minor": 4
}
